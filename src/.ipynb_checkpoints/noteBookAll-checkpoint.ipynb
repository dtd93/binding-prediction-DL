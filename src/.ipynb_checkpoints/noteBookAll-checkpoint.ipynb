{
 "cells": [
  {
   "cell_type": "code",
   "execution_count": 1,
   "metadata": {},
   "outputs": [
    {
     "name": "stderr",
     "output_type": "stream",
     "text": [
      "Using TensorFlow backend.\n"
     ]
    },
    {
     "name": "stdout",
     "output_type": "stream",
     "text": [
      "\n",
      "Please cite HTMD: Doerr et al.(2016)JCTC,12,1845. https://dx.doi.org/10.1021/acs.jctc.6b00049\n",
      "\n",
      "HTMD Documentation at: https://www.htmd.org/docs/latest/\n",
      "\n",
      "New devel HTMD version (1.7.34 python[==3.6,==3.5]) is available. You are currently on (1.7.33). Use 'conda update -c acellera htmd' to update to the new version. You might need to update your python version as well if there is no release for your current version.\n",
      "\n"
     ]
    }
   ],
   "source": [
    "from chemblmining import main as miner \n",
    "from cnn import main as cnn \n",
    "from descriptors import main as desc \n",
    "\n",
    "from configparser import ConfigParser "
   ]
  },
  {
   "cell_type": "code",
   "execution_count": 2,
   "metadata": {
    "collapsed": true
   },
   "outputs": [],
   "source": [
    "parser = ConfigParser()\n",
    "parser.read(\"config.file\")\n",
    "configPath = parser.get('init', 'configPath')"
   ]
  },
  {
   "cell_type": "code",
   "execution_count": 3,
   "metadata": {},
   "outputs": [
    {
     "ename": "KeyboardInterrupt",
     "evalue": "",
     "output_type": "error",
     "traceback": [
      "\u001b[0;31m---------------------------------------------------------------------------\u001b[0m",
      "\u001b[0;31mKeyboardInterrupt\u001b[0m                         Traceback (most recent call last)",
      "\u001b[0;32m<ipython-input-3-01a9b98930da>\u001b[0m in \u001b[0;36m<module>\u001b[0;34m()\u001b[0m\n\u001b[0;32m----> 1\u001b[0;31m \u001b[0mligands\u001b[0m \u001b[0;34m=\u001b[0m \u001b[0mminer\u001b[0m\u001b[0;34m.\u001b[0m\u001b[0mmain\u001b[0m\u001b[0;34m(\u001b[0m\u001b[0mconfigPath\u001b[0m\u001b[0;34m)\u001b[0m\u001b[0;34m\u001b[0m\u001b[0m\n\u001b[0m",
      "\u001b[0;32m/home/david/Documents/projects/binding-prediction-DL/src/chemblmining/main.py\u001b[0m in \u001b[0;36mmain\u001b[0;34m(configPath)\u001b[0m\n\u001b[1;32m     15\u001b[0m     \u001b[0mscriptMGLPath\u001b[0m \u001b[0;34m=\u001b[0m \u001b[0mparser\u001b[0m\u001b[0;34m.\u001b[0m\u001b[0mget\u001b[0m\u001b[0;34m(\u001b[0m\u001b[0;34m'init'\u001b[0m\u001b[0;34m,\u001b[0m \u001b[0;34m'MGLToolsPath'\u001b[0m\u001b[0;34m)\u001b[0m\u001b[0;34m\u001b[0m\u001b[0m\n\u001b[1;32m     16\u001b[0m     \u001b[0mligands\u001b[0m \u001b[0;34m=\u001b[0m \u001b[0mm\u001b[0m\u001b[0;34m.\u001b[0m\u001b[0mgetLigandsMolregno\u001b[0m\u001b[0;34m(\u001b[0m\u001b[0mtargetId\u001b[0m\u001b[0;34m,\u001b[0m\u001b[0mmysqlPass\u001b[0m\u001b[0;34m)\u001b[0m\u001b[0;34m\u001b[0m\u001b[0m\n\u001b[0;32m---> 17\u001b[0;31m     \u001b[0mallInfo\u001b[0m \u001b[0;34m=\u001b[0m \u001b[0mss\u001b[0m\u001b[0;34m.\u001b[0m\u001b[0mgetSmiles\u001b[0m\u001b[0;34m(\u001b[0m\u001b[0mligands\u001b[0m\u001b[0;34m)\u001b[0m\u001b[0;34m\u001b[0m\u001b[0m\n\u001b[0m\u001b[1;32m     18\u001b[0m     \u001b[0mmc\u001b[0m\u001b[0;34m.\u001b[0m\u001b[0mpdbWriterFromSmiles\u001b[0m\u001b[0;34m(\u001b[0m\u001b[0mallInfo\u001b[0m\u001b[0;34m,\u001b[0m\u001b[0mdatafolder\u001b[0m\u001b[0;34m+\u001b[0m\u001b[0;34m\"aux/\"\u001b[0m\u001b[0;34m)\u001b[0m\u001b[0;34m\u001b[0m\u001b[0m\n\u001b[1;32m     19\u001b[0m     \u001b[0mmc\u001b[0m\u001b[0;34m.\u001b[0m\u001b[0mpdbToPdbqt\u001b[0m\u001b[0;34m(\u001b[0m\u001b[0mallInfo\u001b[0m\u001b[0;34m,\u001b[0m\u001b[0mdatafolder\u001b[0m\u001b[0;34m+\u001b[0m\u001b[0;34m\"aux/\"\u001b[0m\u001b[0;34m,\u001b[0m\u001b[0mscriptMGLPath\u001b[0m\u001b[0;34m)\u001b[0m\u001b[0;34m\u001b[0m\u001b[0m\n",
      "\u001b[0;32m/home/david/Documents/projects/binding-prediction-DL/src/chemblmining/smile_seeker.py\u001b[0m in \u001b[0;36mgetSmiles\u001b[0;34m(ligands)\u001b[0m\n\u001b[1;32m     10\u001b[0m \u001b[0;31m# TODO prob hardoceded -> query sql\u001b[0m\u001b[0;34m\u001b[0m\u001b[0;34m\u001b[0m\u001b[0m\n\u001b[1;32m     11\u001b[0m \u001b[0;32mdef\u001b[0m \u001b[0mgetSmiles\u001b[0m\u001b[0;34m(\u001b[0m\u001b[0mligands\u001b[0m\u001b[0;34m)\u001b[0m\u001b[0;34m:\u001b[0m\u001b[0;34m\u001b[0m\u001b[0m\n\u001b[0;32m---> 12\u001b[0;31m     \u001b[0mallLigands\u001b[0m \u001b[0;34m=\u001b[0m \u001b[0mm\u001b[0m\u001b[0;34m.\u001b[0m\u001b[0mgetAllSmiles\u001b[0m\u001b[0;34m(\u001b[0m\u001b[0;34m)\u001b[0m\u001b[0;34m\u001b[0m\u001b[0m\n\u001b[0m\u001b[1;32m     13\u001b[0m     \u001b[0msize\u001b[0m \u001b[0;34m=\u001b[0m \u001b[0mlen\u001b[0m\u001b[0;34m(\u001b[0m\u001b[0mligands\u001b[0m\u001b[0;34m)\u001b[0m\u001b[0;34m*\u001b[0m\u001b[0;36m4\u001b[0m\u001b[0;34m\u001b[0m\u001b[0m\n\u001b[1;32m     14\u001b[0m     \u001b[0mtotal\u001b[0m \u001b[0;34m=\u001b[0m \u001b[0msize\u001b[0m \u001b[0;34m+\u001b[0m \u001b[0mlen\u001b[0m\u001b[0;34m(\u001b[0m\u001b[0mligands\u001b[0m\u001b[0;34m)\u001b[0m\u001b[0;34m\u001b[0m\u001b[0m\n",
      "\u001b[0;32m/home/david/Documents/projects/binding-prediction-DL/src/chemblmining/miner.py\u001b[0m in \u001b[0;36mgetAllSmiles\u001b[0;34m()\u001b[0m\n\u001b[1;32m     11\u001b[0m     \u001b[0mselecteds\u001b[0m\u001b[0;34m=\u001b[0m\u001b[0;34m[\u001b[0m\u001b[0;34m]\u001b[0m\u001b[0;34m\u001b[0m\u001b[0m\n\u001b[1;32m     12\u001b[0m     \u001b[0mcursor\u001b[0m\u001b[0;34m.\u001b[0m\u001b[0mexecute\u001b[0m\u001b[0;34m(\u001b[0m\u001b[0mquery\u001b[0m\u001b[0;34m)\u001b[0m\u001b[0;34m\u001b[0m\u001b[0m\n\u001b[0;32m---> 13\u001b[0;31m     \u001b[0;32mfor\u001b[0m \u001b[0mc\u001b[0m \u001b[0;32min\u001b[0m \u001b[0mcursor\u001b[0m\u001b[0;34m:\u001b[0m\u001b[0;34m\u001b[0m\u001b[0m\n\u001b[0m\u001b[1;32m     14\u001b[0m         \u001b[0mselecteds\u001b[0m\u001b[0;34m.\u001b[0m\u001b[0mappend\u001b[0m\u001b[0;34m(\u001b[0m\u001b[0mc\u001b[0m\u001b[0;34m)\u001b[0m\u001b[0;34m\u001b[0m\u001b[0m\n\u001b[1;32m     15\u001b[0m     \u001b[0;32mreturn\u001b[0m \u001b[0mselecteds\u001b[0m\u001b[0;34m\u001b[0m\u001b[0m\n",
      "\u001b[0;32m/home/david/miniconda3/envs/py35/lib/python3.5/site-packages/mysql/connector/cursor.py\u001b[0m in \u001b[0;36mfetchone\u001b[0;34m(self)\u001b[0m\n\u001b[1;32m    804\u001b[0m         \u001b[0mReturns\u001b[0m \u001b[0ma\u001b[0m \u001b[0mtuple\u001b[0m \u001b[0;32mor\u001b[0m \u001b[0;32mNone\u001b[0m\u001b[0;34m.\u001b[0m\u001b[0;34m\u001b[0m\u001b[0m\n\u001b[1;32m    805\u001b[0m         \"\"\"\n\u001b[0;32m--> 806\u001b[0;31m         \u001b[0mrow\u001b[0m \u001b[0;34m=\u001b[0m \u001b[0mself\u001b[0m\u001b[0;34m.\u001b[0m\u001b[0m_fetch_row\u001b[0m\u001b[0;34m(\u001b[0m\u001b[0;34m)\u001b[0m\u001b[0;34m\u001b[0m\u001b[0m\n\u001b[0m\u001b[1;32m    807\u001b[0m         \u001b[0;32mif\u001b[0m \u001b[0mrow\u001b[0m\u001b[0;34m:\u001b[0m\u001b[0;34m\u001b[0m\u001b[0m\n\u001b[1;32m    808\u001b[0m             return self._connection.converter.row_to_python(\n",
      "\u001b[0;32m/home/david/miniconda3/envs/py35/lib/python3.5/site-packages/mysql/connector/cursor.py\u001b[0m in \u001b[0;36m_fetch_row\u001b[0;34m(self)\u001b[0m\n\u001b[1;32m    780\u001b[0m             \u001b[0;34m(\u001b[0m\u001b[0mrow\u001b[0m\u001b[0;34m,\u001b[0m \u001b[0meof\u001b[0m\u001b[0;34m)\u001b[0m \u001b[0;34m=\u001b[0m \u001b[0mself\u001b[0m\u001b[0;34m.\u001b[0m\u001b[0m_nextrow\u001b[0m\u001b[0;34m\u001b[0m\u001b[0m\n\u001b[1;32m    781\u001b[0m \u001b[0;34m\u001b[0m\u001b[0m\n\u001b[0;32m--> 782\u001b[0;31m         \u001b[0;32mif\u001b[0m \u001b[0mrow\u001b[0m\u001b[0;34m:\u001b[0m\u001b[0;34m\u001b[0m\u001b[0m\n\u001b[0m\u001b[1;32m    783\u001b[0m             self._nextrow = self._connection.get_row(\n\u001b[1;32m    784\u001b[0m                 binary=self._binary, columns=self.description)\n",
      "\u001b[0;31mKeyboardInterrupt\u001b[0m: "
     ]
    }
   ],
   "source": [
    "ligands = miner.main(configPath)"
   ]
  },
  {
   "cell_type": "code",
   "execution_count": 3,
   "metadata": {},
   "outputs": [
    {
     "name": "stdout",
     "output_type": "stream",
     "text": [
      "1727112\n",
      "8445\n",
      "1689\n",
      "Final binding:\n",
      "1689\n",
      "Final no binding:\n",
      "6756\n"
     ]
    }
   ],
   "source": [
    "from chemblmining import miner as m\n",
    "from chemblmining import sdf_cuter as sc\n",
    "from chemblmining import smile_seeker as ss\n",
    "from chemblmining import mol_converter as mc\n",
    "from configparser import ConfigParser\n",
    "\n",
    "\n",
    "parser = ConfigParser()\n",
    "parser.read(configPath)\n",
    "targetId = parser.get('init', 'target')\n",
    "sdfFilePath = parser.get('init', 'sdfFilePath')\n",
    "datafolder = parser.get('init', 'datafolder')\n",
    "mysqlPass = parser.get('init', 'mysqlPass')\n",
    "scriptMGLPath = parser.get('init', 'MGLToolsPath')\n",
    "ligands = m.getLigandsMolregno(targetId,mysqlPass)\n",
    "allInfo = ss.getSmiles(ligands)\n"
   ]
  },
  {
   "cell_type": "code",
   "execution_count": 8,
   "metadata": {},
   "outputs": [],
   "source": [
    "mc.pdbWriterFromSmiles(allInfo,datafolder+\"aux/\")\n"
   ]
  },
  {
   "cell_type": "code",
   "execution_count": 17,
   "metadata": {},
   "outputs": [],
   "source": [
    "import mysql.connector\n",
    "from socket import socket\n",
    "from rdkit import Chem\n",
    "from rdkit.Chem import AllChem\n",
    "import os\n",
    "import subprocess\n",
    "\n",
    "\n",
    "def pdbToPdbqt(smiles,path,scriptMGLPath):\n",
    "    aux = len(smiles)/100\n",
    "    cont = aux\n",
    "    for i, smile in enumerate(smiles):\n",
    "        cont -= 1\n",
    "        if cont < 0\n",
    "            cont = aux\n",
    "            print(str((i/len(smiles))*100)+\"%\")\n",
    "        subprocess.call([scriptMGLPath+\"/prepare_receptor4.py -r \"+ path +\"aux/\"+ smile[0] + \".pdb -o \" + path+\"auxQT/\" + smile[0] +\".pdbqt\"],shell=True)\n",
    "\n",
    "pdbToPdbqt(allInfo,datafolder,scriptMGLPath)"
   ]
  },
  {
   "cell_type": "code",
   "execution_count": 20,
   "metadata": {},
   "outputs": [],
   "source": [
    "datafolder = parser.get('init', 'datafolder')\n",
    "boxSize = parser.get('init', 'boxSize')"
   ]
  },
  {
   "cell_type": "code",
   "execution_count": 12,
   "metadata": {},
   "outputs": [],
   "source": [
    "allLigands = m.getAllSmiles()\n"
   ]
  },
  {
   "cell_type": "code",
   "execution_count": 72,
   "metadata": {},
   "outputs": [],
   "source": [
    "from htmd import *\n",
    "from htmd.molecule import voxeldescriptors as vd\n",
    "\n",
    "#Descriptors\n",
    "\n",
    "def get_descriptors(path, ligands, boxSize):\n",
    "    aux = len(ligands)/100\n",
    "    cont = aux\n",
    "    descriptors = []\n",
    "    labels= np.empty(shape=[0,1])\n",
    "    print(\"Bulding descriptors ...\")\n",
    "    contFails = 0\n",
    "    for i, ligand in enumerate(ligands):\n",
    "        cont -= 1\n",
    "        if cont < 0:\n",
    "            cont = aux\n",
    "            print(str((i/len(ligands))*100)+\"%\")\n",
    "        try:\n",
    "            mol = Molecule(path + ligand[0] +\".pdbqt\")\n",
    "            point = np.squeeze(mol.coords).mean(axis=0)\n",
    "            desc = vd.getPointDescriptors(mol, point, size=[int(boxSize)]*3)\n",
    "        except:\n",
    "            contFails += 1\n",
    "            print(\"pdb \" + str(ligand[0]) + \" not found : \" +str(contFails))\n",
    "            continue\n",
    "        labels = np.append(labels, ligand[2])\n",
    "        descriptors.append(desc)\n",
    "    return np.array(descriptors), labels"
   ]
  },
  {
   "cell_type": "code",
   "execution_count": 71,
   "metadata": {
    "collapsed": true
   },
   "outputs": [],
   "source": [
    "datafolder = parser.get('init', 'datafolder')\n",
    "boxSize = int(parser.get('init', 'boxSize'))"
   ]
  },
  {
   "cell_type": "code",
   "execution_count": 73,
   "metadata": {},
   "outputs": [
    {
     "name": "stdout",
     "output_type": "stream",
     "text": [
      "Bulding descriptors ...\n",
      "pdb 12171 not found : 1\n",
      "0.9946714031971581%\n",
      "pdb 39897 not found : 2\n",
      "pdb 45447 not found : 3\n",
      "2.0011841326228534%\n",
      "pdb 50610 not found : 4\n",
      "pdb 54570 not found : 5\n",
      "pdb 54922 not found : 6\n",
      "pdb 74706 not found : 7\n",
      "3.0076968620485496%\n",
      "pdb 76665 not found : 8\n",
      "pdb 85239 not found : 9\n",
      "4.014209591474245%\n",
      "pdb 91225 not found : 10\n",
      "pdb 92324 not found : 11\n",
      "pdb 95941 not found : 12\n",
      "pdb 96195 not found : 13\n",
      "5.020722320899941%\n",
      "6.027235050325636%\n",
      "pdb 130464 not found : 14\n",
      "pdb 133399 not found : 15\n",
      "pdb 153725 not found : 16\n",
      "7.033747779751332%\n",
      "pdb 156482 not found : 17\n",
      "pdb 164462 not found : 18\n",
      "8.040260509177028%\n",
      "pdb 192561 not found : 19\n",
      "pdb 195415 not found : 20\n",
      "9.046773238602723%\n",
      "pdb 206450 not found : 21\n",
      "pdb 212756 not found : 22\n",
      "10.053285968028419%\n",
      "pdb 233022 not found : 23\n",
      "pdb 233073 not found : 24\n",
      "pdb 233247 not found : 25\n",
      "pdb 235612 not found : 26\n",
      "pdb 249189 not found : 27\n",
      "11.059798697454115%\n",
      "pdb 265867 not found : 28\n",
      "12.06631142687981%\n",
      "pdb 285792 not found : 29\n",
      "pdb 287355 not found : 30\n",
      "pdb 295458 not found : 31\n",
      "pdb 295802 not found : 32\n",
      "13.072824156305508%\n",
      "pdb 310832 not found : 33\n",
      "pdb 310834 not found : 34\n",
      "14.079336885731204%\n",
      "15.0858496151569%\n",
      "16.092362344582593%\n",
      "pdb 354689 not found : 35\n",
      "17.098875074008287%\n",
      "pdb 385469 not found : 36\n",
      "18.105387803433985%\n",
      "19.11190053285968%\n",
      "20.118413262285376%\n",
      "21.12492599171107%\n",
      "pdb 409279 not found : 37\n",
      "22.131438721136767%\n",
      "23.137951450562465%\n",
      "pdb 418864 not found : 38\n",
      "pdb 418908 not found : 39\n",
      "24.14446417998816%\n",
      "pdb 428309 not found : 40\n",
      "pdb 430352 not found : 41\n",
      "pdb 434074 not found : 42\n",
      "25.150976909413853%\n",
      "pdb 444657 not found : 43\n",
      "pdb 450203 not found : 44\n",
      "26.15748963883955%\n",
      "pdb 464137 not found : 45\n",
      "pdb 470478 not found : 46\n",
      "pdb 475161 not found : 47\n",
      "27.164002368265244%\n",
      "pdb 479878 not found : 48\n",
      "pdb 484730 not found : 49\n",
      "pdb 485288 not found : 50\n",
      "pdb 493002 not found : 51\n",
      "pdb 493021 not found : 52\n",
      "28.17051509769094%\n",
      "pdb 499259 not found : 53\n",
      "pdb 500738 not found : 54\n",
      "pdb 505441 not found : 55\n",
      "29.177027827116635%\n",
      "30.183540556542333%\n",
      "pdb 555369 not found : 56\n",
      "pdb 556871 not found : 57\n",
      "31.190053285968027%\n",
      "pdb 558074 not found : 58\n",
      "pdb 573266 not found : 59\n",
      "pdb 575737 not found : 60\n",
      "32.19656601539372%\n",
      "33.20307874481942%\n",
      "pdb 591284 not found : 61\n",
      "pdb 591307 not found : 62\n",
      "pdb 596333 not found : 63\n",
      "pdb 599668 not found : 64\n",
      "pdb 601077 not found : 65\n",
      "pdb 601078 not found : 66\n",
      "pdb 601144 not found : 67\n",
      "34.209591474245116%\n",
      "pdb 601145 not found : 68\n",
      "pdb 601146 not found : 69\n",
      "pdb 601147 not found : 70\n",
      "pdb 601218 not found : 71\n",
      "pdb 601219 not found : 72\n",
      "pdb 601283 not found : 73\n",
      "pdb 601284 not found : 74\n",
      "pdb 601285 not found : 75\n",
      "pdb 601286 not found : 76\n",
      "pdb 601359 not found : 77\n",
      "pdb 601360 not found : 78\n",
      "pdb 601361 not found : 79\n",
      "pdb 601362 not found : 80\n",
      "pdb 601431 not found : 81\n",
      "pdb 601432 not found : 82\n",
      "pdb 601433 not found : 83\n",
      "pdb 601434 not found : 84\n",
      "pdb 601507 not found : 85\n",
      "pdb 604584 not found : 86\n",
      "pdb 616852 not found : 87\n",
      "35.21610420367081%\n",
      "pdb 620152 not found : 88\n",
      "36.22261693309651%\n",
      "pdb 646132 not found : 89\n",
      "pdb 648138 not found : 90\n",
      "37.229129662522205%\n",
      "pdb 659804 not found : 91\n",
      "pdb 677937 not found : 92\n",
      "38.2356423919479%\n",
      "pdb 688526 not found : 93\n",
      "pdb 693827 not found : 94\n",
      "39.24215512137359%\n",
      "pdb 705217 not found : 95\n",
      "40.24866785079929%\n",
      "pdb 748377 not found : 96\n",
      "41.25518058022499%\n",
      "42.26169330965068%\n",
      "43.26820603907638%\n",
      "44.274718768502076%\n",
      "45.28123149792776%\n",
      "46.287744227353464%\n",
      "47.29425695677916%\n",
      "48.30076968620485%\n",
      "49.307282415630546%\n",
      "50.31379514505625%\n",
      "51.32030787448194%\n",
      "52.32682060390764%\n",
      "53.333333333333336%\n",
      "pdb 1041450 not found : 97\n",
      "54.33984606275904%\n",
      "pdb 1049828 not found : 98\n",
      "pdb 1049941 not found : 99\n",
      "pdb 1050512 not found : 100\n",
      "pdb 1052065 not found : 101\n",
      "pdb 1055806 not found : 102\n",
      "pdb 1055857 not found : 103\n",
      "55.34635879218472%\n",
      "pdb 1076035 not found : 104\n",
      "56.352871521610425%\n",
      "57.35938425103612%\n",
      "pdb 1139254 not found : 105\n",
      "58.365896980461805%\n",
      "pdb 1144758 not found : 106\n",
      "59.372409709887506%\n",
      "pdb 1171016 not found : 107\n",
      "pdb 1171017 not found : 108\n",
      "pdb 1171560 not found : 109\n",
      "60.3789224393132%\n",
      "61.3854351687389%\n",
      "62.39194789816459%\n",
      "63.39846062759029%\n",
      "pdb 1250292 not found : 110\n",
      "64.40497335701598%\n",
      "65.41148608644168%\n",
      "66.41799881586738%\n",
      "67.42451154529307%\n",
      "pdb 1335222 not found : 111\n",
      "pdb 1335299 not found : 112\n",
      "pdb 1335307 not found : 113\n",
      "68.43102427471877%\n",
      "pdb 1340721 not found : 114\n",
      "pdb 1343714 not found : 115\n",
      "69.43753700414447%\n",
      "pdb 1354788 not found : 116\n",
      "pdb 1355588 not found : 117\n",
      "pdb 1356429 not found : 118\n",
      "pdb 1364200 not found : 119\n",
      "pdb 1365557 not found : 120\n",
      "pdb 1376019 not found : 121\n",
      "pdb 1379568 not found : 122\n",
      "70.44404973357015%\n",
      "pdb 1383984 not found : 123\n",
      "71.45056246299586%\n",
      "72.45707519242156%\n",
      "pdb 1441197 not found : 124\n",
      "73.46358792184725%\n",
      "pdb 1475926 not found : 125\n",
      "pdb 1490977 not found : 126\n",
      "74.47010065127294%\n",
      "pdb 1503692 not found : 127\n",
      "pdb 1510393 not found : 128\n",
      "pdb 1510434 not found : 129\n",
      "75.47661338069864%\n",
      "pdb 1526401 not found : 130\n",
      "pdb 1527240 not found : 131\n",
      "pdb 1527247 not found : 132\n",
      "pdb 1530326 not found : 133\n",
      "pdb 1533427 not found : 134\n",
      "76.48312611012433%\n",
      "pdb 1544097 not found : 135\n",
      "pdb 1545009 not found : 136\n",
      "pdb 1545244 not found : 137\n",
      "pdb 1545769 not found : 138\n",
      "pdb 1546451 not found : 139\n",
      "pdb 1548159 not found : 140\n",
      "pdb 1549044 not found : 141\n",
      "pdb 1564504 not found : 142\n",
      "77.48963883955004%\n",
      "pdb 1567003 not found : 143\n",
      "pdb 1567272 not found : 144\n",
      "pdb 1574507 not found : 145\n",
      "pdb 1575315 not found : 146\n",
      "pdb 1576106 not found : 147\n",
      "78.49615156897572%\n",
      "pdb 1577606 not found : 148\n",
      "pdb 1587896 not found : 149\n",
      "79.50266429840143%\n",
      "80.50917702782712%\n",
      "pdb 1613793 not found : 150\n",
      "pdb 1620533 not found : 151\n",
      "pdb 1621466 not found : 152\n",
      "pdb 1626617 not found : 153\n",
      "pdb 1626618 not found : 154\n",
      "pdb 1626619 not found : 155\n",
      "pdb 1626620 not found : 156\n",
      "pdb 1626621 not found : 157\n",
      "81.5156897572528%\n",
      "pdb 1632059 not found : 158\n",
      "pdb 1632996 not found : 159\n",
      "82.52220248667851%\n",
      "pdb 1704246 not found : 160\n",
      "pdb 1705696 not found : 161\n",
      "pdb 1727861 not found : 162\n",
      "83.5287152161042%\n",
      "pdb 1737386 not found : 163\n",
      "pdb 1745950 not found : 164\n",
      "84.5352279455299%\n",
      "pdb 1758608 not found : 165\n",
      "pdb 1763579 not found : 166\n",
      "pdb 1763636 not found : 167\n",
      "pdb 1763728 not found : 168\n",
      "85.54174067495559%\n",
      "pdb 1780389 not found : 169\n",
      "pdb 1785791 not found : 170\n",
      "pdb 1790634 not found : 171\n",
      "pdb 1792401 not found : 172\n",
      "pdb 1794596 not found : 173\n",
      "86.5482534043813%\n",
      "pdb 1818848 not found : 174\n",
      "87.55476613380698%\n",
      "pdb 1830558 not found : 175\n",
      "88.56127886323269%\n",
      "pdb 1841968 not found : 176\n",
      "89.56779159265838%\n",
      "90.57430432208407%\n",
      "91.58081705150977%\n",
      "pdb 1940622 not found : 177\n",
      "92.58732978093546%\n",
      "pdb 1945959 not found : 178\n",
      "93.59384251036116%\n",
      "pdb 1962512 not found : 179\n",
      "pdb 1963077 not found : 180\n",
      "pdb 1969440 not found : 181\n",
      "94.60035523978686%\n",
      "pdb 1989201 not found : 182\n",
      "95.60686796921254%\n",
      "pdb 1997459 not found : 183\n",
      "96.61338069863825%\n",
      "pdb 2015693 not found : 184\n",
      "97.61989342806395%\n",
      "pdb 2039099 not found : 185\n",
      "pdb 2039173 not found : 186\n",
      "pdb 2054589 not found : 187\n",
      "98.62640615748964%\n",
      "pdb 2068342 not found : 188\n",
      "pdb 2070257 not found : 189\n",
      "pdb 2070552 not found : 190\n",
      "pdb 2073176 not found : 191\n",
      "pdb 2076517 not found : 192\n",
      "99.63291888691533%\n"
     ]
    }
   ],
   "source": [
    "descriptors, labels = get_descriptors(datafolder+\"auxQT/\", allInfo, boxSize)"
   ]
  },
  {
   "cell_type": "code",
   "execution_count": 77,
   "metadata": {},
   "outputs": [],
   "source": [
    "file = open(datafolder+\"aux.data\", \"w\")\n",
    "\n",
    "for lig in allInfo:\n",
    "    file.write(str(lig[0])+\" \"+str(lig[1])+\" \"+ str(lig[2]) +\"\\n\")\n"
   ]
  },
  {
   "cell_type": "code",
   "execution_count": 75,
   "metadata": {},
   "outputs": [
    {
     "data": {
      "text/plain": [
       "(8253,)"
      ]
     },
     "execution_count": 75,
     "metadata": {},
     "output_type": "execute_result"
    }
   ],
   "source": [
    "labels.shape"
   ]
  },
  {
   "cell_type": "code",
   "execution_count": 45,
   "metadata": {},
   "outputs": [],
   "source": [
    "auxNP = np.array(descriptors)"
   ]
  },
  {
   "cell_type": "code",
   "execution_count": 47,
   "metadata": {},
   "outputs": [
    {
     "data": {
      "text/plain": [
       "(2, 24, 24, 24, 8)"
      ]
     },
     "execution_count": 47,
     "metadata": {},
     "output_type": "execute_result"
    }
   ],
   "source": [
    "auxNP.shape"
   ]
  },
  {
   "cell_type": "code",
   "execution_count": 6,
   "metadata": {},
   "outputs": [
    {
     "data": {
      "text/plain": [
       "array(['856',\n",
       "       'CC1=CC(=O)N(C(=O)OC(C)(C)C)c2c3[C@@H](OC(=O)C45CCC(C)(C(=O)O4)C5(C)C)[C@@H](OC(=O)C67CCC(C)(C(=O)O6)C7(C)C)C(C)(C)Oc3ccc12',\n",
       "       '0'],\n",
       "      dtype='<U901')"
      ]
     },
     "execution_count": 6,
     "metadata": {},
     "output_type": "execute_result"
    }
   ],
   "source": [
    "allInfo[2]"
   ]
  },
  {
   "cell_type": "code",
   "execution_count": 15,
   "metadata": {},
   "outputs": [],
   "source": [
    "import mysql.connector\n",
    "from socket import socket\n",
    "from rdkit import Chem\n",
    "from rdkit.Chem import AllChem\n",
    "import os\n",
    "import subprocess\n",
    "\n",
    "def pdbToPdbqt(smiles,path,scriptMGLPath):\n",
    "    subprocess.call([scriptMGLPath+\"/prepare_receptor4.py -r \"+ path +\"aux/\"+ smiles[1][0] + \".pdb -o \" + path+\"auxQT/\" + smiles[1][0] +\".pdbqt\"],shell=True)\n",
    "\n",
    "pdbToPdbqt(allInfo,datafolder,scriptMGLPath)"
   ]
  },
  {
   "cell_type": "code",
   "execution_count": null,
   "metadata": {},
   "outputs": [],
   "source": []
  },
  {
   "cell_type": "code",
   "execution_count": 51,
   "metadata": {},
   "outputs": [
    {
     "name": "stdout",
     "output_type": "stream",
     "text": [
      "pdb   not found\n"
     ]
    }
   ],
   "source": [
    "\n",
    "    \n"
   ]
  },
  {
   "cell_type": "code",
   "execution_count": 49,
   "metadata": {},
   "outputs": [
    {
     "data": {
      "text/plain": [
       "2"
      ]
     },
     "execution_count": 49,
     "metadata": {},
     "output_type": "execute_result"
    }
   ],
   "source": [
    "david"
   ]
  },
  {
   "cell_type": "code",
   "execution_count": null,
   "metadata": {},
   "outputs": [],
   "source": []
  },
  {
   "cell_type": "code",
   "execution_count": 7,
   "metadata": {},
   "outputs": [
    {
     "data": {
      "text/plain": [
       "'C'"
      ]
     },
     "execution_count": 7,
     "metadata": {},
     "output_type": "execute_result"
    }
   ],
   "source": [
    "allInfo[0][1]"
   ]
  },
  {
   "cell_type": "code",
   "execution_count": 39,
   "metadata": {},
   "outputs": [],
   "source": [
    "finalSelect = np.array((5, 3), dtype=object)"
   ]
  },
  {
   "cell_type": "code",
   "execution_count": 51,
   "metadata": {},
   "outputs": [],
   "source": [
    "index = 2\n",
    "l = 4"
   ]
  },
  {
   "cell_type": "code",
   "execution_count": 19,
   "metadata": {},
   "outputs": [
    {
     "data": {
      "text/plain": [
       "'Cc1cc(ccc1C(=O)c2ccc(Cl)cc2)N3N=CC(=O)NC3=O'"
      ]
     },
     "execution_count": 19,
     "metadata": {},
     "output_type": "execute_result"
    }
   ],
   "source": [
    "allLigands[l][1]"
   ]
  },
  {
   "cell_type": "code",
   "execution_count": 72,
   "metadata": {},
   "outputs": [],
   "source": [
    "Matrix[2] = [allLigands[l][0],allLigands[l][1],0]"
   ]
  },
  {
   "cell_type": "code",
   "execution_count": 21,
   "metadata": {},
   "outputs": [
    {
     "data": {
      "text/plain": [
       "[5, 'Cc1cc(ccc1C(=O)c2ccc(Cl)cc2)N3N=CC(=O)NC3=O', 0]"
      ]
     },
     "execution_count": 21,
     "metadata": {},
     "output_type": "execute_result"
    }
   ],
   "source": [
    "[allLigands[l][0],allLigands[l][1],0]"
   ]
  },
  {
   "cell_type": "code",
   "execution_count": 58,
   "metadata": {},
   "outputs": [
    {
     "data": {
      "text/plain": [
       "array(['5', 'Cc1cc(ccc1C(=O)c2ccc(Cl)cc2)N3N=CC(=O)NC3=O', '0'],\n",
       "      dtype='<U2071')"
      ]
     },
     "execution_count": 58,
     "metadata": {},
     "output_type": "execute_result"
    }
   ],
   "source": [
    "finalSelect[index]"
   ]
  },
  {
   "cell_type": "code",
   "execution_count": 54,
   "metadata": {
    "collapsed": true
   },
   "outputs": [],
   "source": [
    "max = 0 \n",
    "for a in allLigands:\n",
    "    if len(a[1]) > max:\n",
    "        max = len(a[1])"
   ]
  },
  {
   "cell_type": "code",
   "execution_count": 29,
   "metadata": {},
   "outputs": [
    {
     "data": {
      "text/plain": [
       "2071"
      ]
     },
     "execution_count": 29,
     "metadata": {},
     "output_type": "execute_result"
    }
   ],
   "source": [
    "max"
   ]
  },
  {
   "cell_type": "code",
   "execution_count": 41,
   "metadata": {},
   "outputs": [
    {
     "data": {
      "text/plain": [
       "array([5, 3], dtype=object)"
      ]
     },
     "execution_count": 41,
     "metadata": {},
     "output_type": "execute_result"
    }
   ],
   "source": [
    "finalSelect"
   ]
  },
  {
   "cell_type": "code",
   "execution_count": 42,
   "metadata": {},
   "outputs": [
    {
     "ename": "IndexError",
     "evalue": "index 2 is out of bounds for axis 0 with size 2",
     "output_type": "error",
     "traceback": [
      "\u001b[0;31m---------------------------------------------------------------------------\u001b[0m",
      "\u001b[0;31mIndexError\u001b[0m                                Traceback (most recent call last)",
      "\u001b[0;32m<ipython-input-42-1fa25ac74e0e>\u001b[0m in \u001b[0;36m<module>\u001b[0;34m()\u001b[0m\n\u001b[0;32m----> 1\u001b[0;31m \u001b[0mfinalSelect\u001b[0m\u001b[0;34m[\u001b[0m\u001b[0;36m2\u001b[0m\u001b[0;34m]\u001b[0m\u001b[0;34m\u001b[0m\u001b[0m\n\u001b[0m",
      "\u001b[0;31mIndexError\u001b[0m: index 2 is out of bounds for axis 0 with size 2"
     ]
    }
   ],
   "source": [
    "finalSelect[2]"
   ]
  },
  {
   "cell_type": "code",
   "execution_count": 46,
   "metadata": {
    "collapsed": true
   },
   "outputs": [],
   "source": [
    "a = [\"dd2\",\"ss3\"]"
   ]
  },
  {
   "cell_type": "code",
   "execution_count": 47,
   "metadata": {
    "collapsed": true
   },
   "outputs": [],
   "source": [
    "b = np.array(a)"
   ]
  },
  {
   "cell_type": "code",
   "execution_count": 48,
   "metadata": {},
   "outputs": [
    {
     "data": {
      "text/plain": [
       "array(['dd2', 'ss3'],\n",
       "      dtype='<U3')"
      ]
     },
     "execution_count": 48,
     "metadata": {},
     "output_type": "execute_result"
    }
   ],
   "source": [
    "b"
   ]
  },
  {
   "cell_type": "code",
   "execution_count": 50,
   "metadata": {},
   "outputs": [],
   "source": [
    "finalSelect = np.empty((45, 3),dtype='<U2071')\n"
   ]
  },
  {
   "cell_type": "code",
   "execution_count": 56,
   "metadata": {},
   "outputs": [],
   "source": [
    "max = 0 \n",
    "for a in allLigands:\n",
    "    if len(a[1]) > max:\n",
    "        max = len(a[1])\n",
    "dt = '<U'+str(max)\n",
    "finalSelect = np.empty((100, 3),dtype=dt)"
   ]
  },
  {
   "cell_type": "code",
   "execution_count": 67,
   "metadata": {
    "collapsed": true
   },
   "outputs": [],
   "source": [
    "w, h = 3, 1000;\n",
    "Matrix = [[0 for x in range(w)] for y in range(h)] "
   ]
  },
  {
   "cell_type": "code",
   "execution_count": 63,
   "metadata": {},
   "outputs": [],
   "source": [
    "h, w = 3, 1000;\n",
    "Matrix = [[0 for x in range(w)] for y in range(h)] "
   ]
  },
  {
   "cell_type": "code",
   "execution_count": 68,
   "metadata": {
    "collapsed": true
   },
   "outputs": [],
   "source": [
    "aux = np.array(Matrix)"
   ]
  },
  {
   "cell_type": "code",
   "execution_count": 69,
   "metadata": {},
   "outputs": [
    {
     "data": {
      "text/plain": [
       "(1000, 3)"
      ]
     },
     "execution_count": 69,
     "metadata": {},
     "output_type": "execute_result"
    }
   ],
   "source": [
    "aux.shape"
   ]
  },
  {
   "cell_type": "code",
   "execution_count": 70,
   "metadata": {},
   "outputs": [
    {
     "data": {
      "text/plain": [
       "0"
      ]
     },
     "execution_count": 70,
     "metadata": {},
     "output_type": "execute_result"
    }
   ],
   "source": [
    "aux[122][1]"
   ]
  },
  {
   "cell_type": "code",
   "execution_count": 71,
   "metadata": {},
   "outputs": [
    {
     "data": {
      "text/plain": [
       "0"
      ]
     },
     "execution_count": 71,
     "metadata": {},
     "output_type": "execute_result"
    }
   ],
   "source": [
    "Matrix[100][1]"
   ]
  },
  {
   "cell_type": "code",
   "execution_count": 73,
   "metadata": {},
   "outputs": [
    {
     "data": {
      "text/plain": [
       "[5, 'Cc1cc(ccc1C(=O)c2ccc(Cl)cc2)N3N=CC(=O)NC3=O', 0]"
      ]
     },
     "execution_count": 73,
     "metadata": {},
     "output_type": "execute_result"
    }
   ],
   "source": [
    "Matrix[2]"
   ]
  },
  {
   "cell_type": "code",
   "execution_count": null,
   "metadata": {
    "collapsed": true
   },
   "outputs": [],
   "source": []
  }
 ],
 "metadata": {
  "kernelspec": {
   "display_name": "Python 3",
   "language": "python",
   "name": "python3"
  },
  "language_info": {
   "codemirror_mode": {
    "name": "ipython",
    "version": 3
   },
   "file_extension": ".py",
   "mimetype": "text/x-python",
   "name": "python",
   "nbconvert_exporter": "python",
   "pygments_lexer": "ipython3",
   "version": "3.5.3"
  }
 },
 "nbformat": 4,
 "nbformat_minor": 2
}
