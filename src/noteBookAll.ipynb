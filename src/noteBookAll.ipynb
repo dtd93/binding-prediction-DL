{
 "cells": [
  {
   "cell_type": "code",
   "execution_count": 1,
   "metadata": {},
   "outputs": [
    {
     "name": "stderr",
     "output_type": "stream",
     "text": [
      "Using TensorFlow backend.\n"
     ]
    },
    {
     "name": "stdout",
     "output_type": "stream",
     "text": [
      "\n",
      "Please cite HTMD: Doerr et al.(2016)JCTC,12,1845. https://dx.doi.org/10.1021/acs.jctc.6b00049\n",
      "\n",
      "HTMD Documentation at: https://www.htmd.org/docs/latest/\n",
      "\n",
      "New devel HTMD version (1.7.34 python[==3.6,==3.5]) is available. You are currently on (1.7.33). Use 'conda update -c acellera htmd' to update to the new version. You might need to update your python version as well if there is no release for your current version.\n",
      "\n"
     ]
    }
   ],
   "source": [
    "from chemblmining import main as miner \n",
    "from cnn import main as cnn \n",
    "from descriptors import main as desc \n",
    "\n",
    "from configparser import ConfigParser "
   ]
  },
  {
   "cell_type": "code",
   "execution_count": 2,
   "metadata": {
    "collapsed": true
   },
   "outputs": [],
   "source": [
    "parser = ConfigParser()\n",
    "parser.read(\"config.file\")\n",
    "configPath = parser.get('init', 'configPath')"
   ]
  },
  {
   "cell_type": "code",
   "execution_count": 3,
   "metadata": {},
   "outputs": [
    {
     "name": "stdout",
     "output_type": "stream",
     "text": [
      "Loading data from file\n"
     ]
    }
   ],
   "source": [
    "ligands = miner.main(configPath)"
   ]
  },
  {
   "cell_type": "code",
   "execution_count": 4,
   "metadata": {},
   "outputs": [
    {
     "data": {
      "text/plain": [
       "(8428, 3)"
      ]
     },
     "execution_count": 4,
     "metadata": {},
     "output_type": "execute_result"
    }
   ],
   "source": [
    "ligands.shape"
   ]
  },
  {
   "cell_type": "code",
   "execution_count": 4,
   "metadata": {},
   "outputs": [
    {
     "name": "stdout",
     "output_type": "stream",
     "text": [
      "Bulding descriptors ...\n",
      "pdb 12171 not found : 1\n",
      "0.9966777408637874%\n",
      "pdb 39897 not found : 2\n",
      "pdb 45447 not found : 3\n",
      "2.0052206929283343%\n",
      "pdb 50610 not found : 4\n",
      "pdb 54570 not found : 5\n",
      "pdb 54922 not found : 6\n",
      "pdb 74706 not found : 7\n",
      "3.013763644992881%\n",
      "pdb 76665 not found : 8\n",
      "pdb 85239 not found : 9\n",
      "4.022306597057428%\n",
      "pdb 91225 not found : 10\n",
      "pdb 92324 not found : 11\n",
      "pdb 95941 not found : 12\n",
      "pdb 96195 not found : 13\n",
      "5.0308495491219745%\n",
      "6.039392501186521%\n",
      "pdb 130464 not found : 14\n",
      "pdb 133399 not found : 15\n",
      "pdb 153725 not found : 16\n",
      "7.0479354532510685%\n",
      "pdb 156482 not found : 17\n",
      "pdb 164462 not found : 18\n",
      "8.056478405315614%\n",
      "pdb 192561 not found : 19\n",
      "pdb 195415 not found : 20\n",
      "9.06502135738016%\n",
      "pdb 206450 not found : 21\n",
      "pdb 212756 not found : 22\n",
      "10.073564309444707%\n",
      "pdb 233022 not found : 23\n",
      "pdb 233073 not found : 24\n",
      "pdb 233247 not found : 25\n",
      "pdb 235612 not found : 26\n",
      "pdb 249189 not found : 27\n",
      "11.082107261509256%\n",
      "pdb 265867 not found : 28\n",
      "12.090650213573802%\n",
      "pdb 285792 not found : 29\n",
      "pdb 287355 not found : 30\n",
      "pdb 295458 not found : 31\n",
      "pdb 295802 not found : 32\n",
      "13.099193165638349%\n",
      "pdb 310832 not found : 33\n",
      "pdb 310834 not found : 34\n",
      "14.107736117702895%\n",
      "15.11627906976744%\n",
      "16.12482202183199%\n",
      "pdb 354689 not found : 35\n",
      "17.133364973896537%\n",
      "pdb 385469 not found : 36\n",
      "18.141907925961082%\n",
      "19.15045087802563%\n",
      "20.158993830090175%\n",
      "21.167536782154723%\n",
      "pdb 409279 not found : 37\n",
      "22.17607973421927%\n",
      "23.184622686283817%\n",
      "pdb 418864 not found : 38\n",
      "pdb 418908 not found : 39\n",
      "24.19316563834836%\n",
      "pdb 428309 not found : 40\n",
      "pdb 430352 not found : 41\n",
      "pdb 434074 not found : 42\n",
      "25.201708590412906%\n",
      "pdb 444657 not found : 43\n",
      "pdb 450203 not found : 44\n",
      "26.210251542477458%\n",
      "pdb 464137 not found : 45\n",
      "pdb 470478 not found : 46\n",
      "pdb 475161 not found : 47\n",
      "27.218794494542003%\n",
      "pdb 479878 not found : 48\n",
      "pdb 484730 not found : 49\n",
      "pdb 485288 not found : 50\n",
      "pdb 493002 not found : 51\n",
      "pdb 493021 not found : 52\n",
      "28.227337446606548%\n",
      "pdb 499259 not found : 53\n",
      "pdb 500738 not found : 54\n",
      "pdb 505441 not found : 55\n",
      "29.2358803986711%\n",
      "30.244423350735644%\n",
      "pdb 555369 not found : 56\n",
      "pdb 556871 not found : 57\n",
      "31.25296630280019%\n",
      "pdb 558074 not found : 58\n",
      "pdb 573266 not found : 59\n",
      "pdb 575737 not found : 60\n",
      "32.261509254864734%\n",
      "33.270052206929286%\n",
      "pdb 591284 not found : 61\n",
      "pdb 591307 not found : 62\n",
      "pdb 596333 not found : 63\n",
      "pdb 599668 not found : 64\n",
      "pdb 601077 not found : 65\n",
      "pdb 601078 not found : 66\n",
      "pdb 601144 not found : 67\n",
      "34.27859515899383%\n",
      "pdb 601145 not found : 68\n",
      "pdb 601146 not found : 69\n",
      "pdb 601147 not found : 70\n",
      "pdb 601218 not found : 71\n",
      "pdb 601219 not found : 72\n",
      "pdb 601283 not found : 73\n",
      "pdb 601284 not found : 74\n",
      "pdb 601285 not found : 75\n",
      "pdb 601286 not found : 76\n",
      "pdb 601359 not found : 77\n",
      "pdb 601360 not found : 78\n",
      "pdb 601361 not found : 79\n",
      "pdb 601362 not found : 80\n",
      "pdb 601431 not found : 81\n",
      "pdb 601432 not found : 82\n",
      "pdb 601433 not found : 83\n",
      "pdb 601434 not found : 84\n",
      "pdb 601507 not found : 85\n",
      "pdb 604584 not found : 86\n",
      "pdb 616852 not found : 87\n",
      "35.287138111058376%\n",
      "pdb 620152 not found : 88\n",
      "36.29568106312293%\n",
      "pdb 646132 not found : 89\n",
      "pdb 648138 not found : 90\n",
      "37.30422401518747%\n",
      "pdb 659804 not found : 91\n",
      "pdb 677937 not found : 92\n",
      "38.31276696725202%\n",
      "pdb 688526 not found : 93\n",
      "pdb 693827 not found : 94\n",
      "39.32130991931657%\n",
      "pdb 705217 not found : 95\n",
      "40.329852871381114%\n",
      "pdb 748377 not found : 96\n",
      "41.33839582344566%\n",
      "42.3469387755102%\n",
      "43.355481727574755%\n",
      "44.3640246796393%\n",
      "45.372567631703845%\n",
      "46.38111058376839%\n",
      "47.389653535832934%\n",
      "48.39819648789748%\n",
      "49.40673943996203%\n",
      "50.41528239202658%\n",
      "51.42382534409112%\n",
      "52.43236829615567%\n",
      "53.44091124822021%\n",
      "pdb 1041450 not found : 97\n",
      "54.44945420028476%\n",
      "pdb 1049828 not found : 98\n",
      "pdb 1049941 not found : 99\n",
      "pdb 1050512 not found : 100\n",
      "pdb 1052065 not found : 101\n",
      "pdb 1055806 not found : 102\n",
      "pdb 1055857 not found : 103\n",
      "55.457997152349314%\n",
      "pdb 1076035 not found : 104\n",
      "56.46654010441385%\n",
      "57.475083056478404%\n",
      "pdb 1139254 not found : 105\n",
      "58.483626008542956%\n",
      "pdb 1144758 not found : 106\n",
      "59.49216896060749%\n",
      "pdb 1171016 not found : 107\n",
      "pdb 1171017 not found : 108\n",
      "pdb 1171560 not found : 109\n",
      "60.500711912672045%\n",
      "61.5092548647366%\n",
      "62.517797816801135%\n",
      "63.52634076886569%\n",
      "pdb 1250292 not found : 110\n",
      "64.53488372093024%\n",
      "65.54342667299477%\n",
      "66.55196962505933%\n",
      "67.56051257712387%\n",
      "pdb 1335222 not found : 111\n",
      "pdb 1335299 not found : 112\n",
      "pdb 1335307 not found : 113\n",
      "68.56905552918842%\n",
      "pdb 1340721 not found : 114\n",
      "pdb 1343714 not found : 115\n",
      "69.57759848125296%\n",
      "pdb 1354788 not found : 116\n",
      "pdb 1355588 not found : 117\n",
      "pdb 1356429 not found : 118\n",
      "pdb 1364200 not found : 119\n",
      "pdb 1365557 not found : 120\n",
      "pdb 1376019 not found : 121\n",
      "pdb 1379568 not found : 122\n",
      "70.58614143331752%\n",
      "pdb 1383984 not found : 123\n",
      "71.59468438538205%\n",
      "72.60322733744661%\n",
      "pdb 1441197 not found : 124\n",
      "73.61177028951116%\n",
      "pdb 1475926 not found : 125\n",
      "pdb 1490977 not found : 126\n",
      "74.6203132415757%\n",
      "pdb 1503692 not found : 127\n",
      "pdb 1510393 not found : 128\n",
      "pdb 1510434 not found : 129\n",
      "75.62885619364025%\n",
      "pdb 1526401 not found : 130\n",
      "pdb 1527240 not found : 131\n",
      "pdb 1527247 not found : 132\n",
      "pdb 1530326 not found : 133\n",
      "pdb 1533427 not found : 134\n",
      "76.6373991457048%\n",
      "pdb 1544097 not found : 135\n",
      "pdb 1545009 not found : 136\n",
      "pdb 1545244 not found : 137\n",
      "pdb 1545769 not found : 138\n",
      "pdb 1546451 not found : 139\n",
      "pdb 1548159 not found : 140\n",
      "pdb 1549044 not found : 141\n",
      "pdb 1564504 not found : 142\n",
      "77.64594209776934%\n",
      "pdb 1567003 not found : 143\n",
      "pdb 1567272 not found : 144\n",
      "pdb 1574507 not found : 145\n",
      "pdb 1575315 not found : 146\n",
      "pdb 1576106 not found : 147\n",
      "78.6544850498339%\n",
      "pdb 1577606 not found : 148\n",
      "pdb 1587896 not found : 149\n",
      "79.66302800189843%\n",
      "80.67157095396298%\n",
      "pdb 1613793 not found : 150\n",
      "pdb 1620533 not found : 151\n",
      "pdb 1621466 not found : 152\n",
      "pdb 1626617 not found : 153\n",
      "pdb 1626618 not found : 154\n",
      "pdb 1626619 not found : 155\n",
      "pdb 1626620 not found : 156\n",
      "pdb 1626621 not found : 157\n",
      "81.68011390602753%\n",
      "pdb 1632059 not found : 158\n",
      "pdb 1632996 not found : 159\n",
      "82.68865685809207%\n",
      "pdb 1704246 not found : 160\n",
      "pdb 1705696 not found : 161\n",
      "pdb 1727861 not found : 162\n",
      "83.69719981015662%\n",
      "pdb 1737386 not found : 163\n",
      "pdb 1745950 not found : 164\n",
      "84.70574276222116%\n",
      "pdb 1758608 not found : 165\n",
      "pdb 1763579 not found : 166\n",
      "pdb 1763636 not found : 167\n",
      "pdb 1763728 not found : 168\n",
      "85.71428571428571%\n",
      "pdb 1780389 not found : 169\n",
      "pdb 1785791 not found : 170\n",
      "pdb 1790634 not found : 171\n",
      "pdb 1792401 not found : 172\n",
      "pdb 1794596 not found : 173\n",
      "86.72282866635027%\n",
      "pdb 1818848 not found : 174\n",
      "87.73137161841481%\n",
      "pdb 1830558 not found : 175\n",
      "88.73991457047936%\n",
      "pdb 1841968 not found : 176\n",
      "89.7484575225439%\n",
      "90.75700047460845%\n",
      "91.76554342667299%\n",
      "pdb 1940622 not found : 177\n",
      "92.77408637873754%\n",
      "pdb 1945959 not found : 178\n",
      "93.7826293308021%\n",
      "pdb 1962512 not found : 179\n",
      "pdb 1963077 not found : 180\n",
      "pdb 1969440 not found : 181\n",
      "94.79117228286663%\n",
      "pdb 1989201 not found : 182\n",
      "95.79971523493118%\n",
      "pdb 1997459 not found : 183\n",
      "96.80825818699573%\n",
      "pdb 2015693 not found : 184\n",
      "97.81680113906027%\n",
      "pdb 2039099 not found : 185\n",
      "pdb 2039173 not found : 186\n",
      "pdb 2054589 not found : 187\n",
      "98.82534409112482%\n",
      "pdb 2068342 not found : 188\n",
      "pdb 2070257 not found : 189\n",
      "pdb 2070552 not found : 190\n",
      "pdb 2073176 not found : 191\n",
      "pdb 2076517 not found : 192\n",
      "99.83388704318938%\n"
     ]
    }
   ],
   "source": [
    "descriptors, labels = desc.main(configPath, ligands)"
   ]
  },
  {
   "cell_type": "code",
   "execution_count": 5,
   "metadata": {},
   "outputs": [
    {
     "data": {
      "text/plain": [
       "(8236, 12, 12, 12, 8)"
      ]
     },
     "execution_count": 5,
     "metadata": {},
     "output_type": "execute_result"
    }
   ],
   "source": [
    "descriptors.shape\n"
   ]
  },
  {
   "cell_type": "code",
   "execution_count": 7,
   "metadata": {},
   "outputs": [
    {
     "data": {
      "text/plain": [
       "array(['0', '0', '0', ..., '1', '0', '1'],\n",
       "      dtype='<U32')"
      ]
     },
     "execution_count": 7,
     "metadata": {},
     "output_type": "execute_result"
    }
   ],
   "source": [
    "labels"
   ]
  },
  {
   "cell_type": "code",
   "execution_count": 8,
   "metadata": {
    "collapsed": true
   },
   "outputs": [],
   "source": [
    "from cnn import network as net\n",
    "from cnn import dataPreparer as dp\n",
    "from configparser import ConfigParser\n",
    "import numpy as np\n",
    "from keras.models import Sequential\n",
    "from keras.layers import Dense, Dropout, Activation, Flatten\n",
    "from keras.layers import Conv3D, MaxPooling3D\n",
    "from keras.optimizers import SGD\n",
    "from keras.utils import np_utils\n",
    "from keras import backend as K"
   ]
  },
  {
   "cell_type": "code",
   "execution_count": 9,
   "metadata": {
    "collapsed": true
   },
   "outputs": [],
   "source": [
    "datafolder = parser.get('init', 'datafolder')\n",
    "boxSize = int(parser.get('init', 'boxSize'))\n",
    "kernelSize = int(parser.get('init', 'kernelSize'))\n",
    "nClases = int(parser.get('init', 'nClases'))\n",
    "nEpoch = int(parser.get('init', 'nEpoch'))\n",
    "batchSize =int( parser.get('init', 'batchSize'))\n",
    "nFilters = int(parser.get('init', 'nFilters'))"
   ]
  },
  {
   "cell_type": "code",
   "execution_count": 18,
   "metadata": {
    "collapsed": true
   },
   "outputs": [],
   "source": [
    "X_train = np.array(descriptors)\n",
    "Y_train = np.array(labels)\n",
    "Y_train = Y_train.reshape((-1, 1))\n",
    "# (1 channel, 25 rows, 25 cols, 25 of depth)\n",
    "input_shape = (boxSize, boxSize, boxSize,8)\n",
    "\n",
    "# Init\n",
    "model = Sequential()"
   ]
  },
  {
   "cell_type": "code",
   "execution_count": 19,
   "metadata": {
    "collapsed": true
   },
   "outputs": [],
   "source": [
    "model.add(Conv3D(nFilters,kernelSize,\n",
    "                            input_shape=input_shape,\n",
    "                            activation='relu'))"
   ]
  },
  {
   "cell_type": "code",
   "execution_count": 20,
   "metadata": {
    "collapsed": true
   },
   "outputs": [],
   "source": [
    "model.add(Flatten())\n",
    "\n"
   ]
  },
  {
   "cell_type": "code",
   "execution_count": 21,
   "metadata": {
    "collapsed": true
   },
   "outputs": [],
   "source": [
    "model.add(Dense(1, activation='relu'))"
   ]
  },
  {
   "cell_type": "code",
   "execution_count": 22,
   "metadata": {
    "collapsed": true
   },
   "outputs": [],
   "source": [
    "model.add(Activation('sigmoid'))"
   ]
  },
  {
   "cell_type": "code",
   "execution_count": 23,
   "metadata": {
    "collapsed": true
   },
   "outputs": [],
   "source": [
    "from keras.optimizers import Adam\n",
    "model.compile(loss='binary_crossentropy',\n",
    "            optimizer= Adam(), metrics=['accuracy'])"
   ]
  },
  {
   "cell_type": "code",
   "execution_count": 14,
   "metadata": {
    "collapsed": true
   },
   "outputs": [],
   "source": []
  },
  {
   "cell_type": "code",
   "execution_count": null,
   "metadata": {},
   "outputs": [
    {
     "name": "stdout",
     "output_type": "stream",
     "text": [
      "Epoch 1/100\n"
     ]
    }
   ],
   "source": [
    "model.fit(X_train, Y_train, batch_size= batchSize, epochs=nEpoch, verbose=1)"
   ]
  },
  {
   "cell_type": "code",
   "execution_count": 17,
   "metadata": {},
   "outputs": [
    {
     "data": {
      "text/plain": [
       "array(['0', '0', '0', ..., '1', '0', '1'],\n",
       "      dtype='<U32')"
      ]
     },
     "execution_count": 17,
     "metadata": {},
     "output_type": "execute_result"
    }
   ],
   "source": [
    "Y_train"
   ]
  },
  {
   "cell_type": "code",
   "execution_count": 24,
   "metadata": {},
   "outputs": [
    {
     "data": {
      "text/plain": [
       "array([['0'],\n",
       "       ['0'],\n",
       "       ['0'],\n",
       "       ..., \n",
       "       ['1'],\n",
       "       ['0'],\n",
       "       ['1']],\n",
       "      dtype='<U32')"
      ]
     },
     "execution_count": 24,
     "metadata": {},
     "output_type": "execute_result"
    }
   ],
   "source": [
    "Y_train"
   ]
  },
  {
   "cell_type": "code",
   "execution_count": 26,
   "metadata": {},
   "outputs": [
    {
     "data": {
      "text/plain": [
       "array([['0', '0', '0', ..., '1', '0', '1']],\n",
       "      dtype='<U32')"
      ]
     },
     "execution_count": 26,
     "metadata": {},
     "output_type": "execute_result"
    }
   ],
   "source": [
    "Y_train.T"
   ]
  },
  {
   "cell_type": "code",
   "execution_count": 28,
   "metadata": {
    "collapsed": true
   },
   "outputs": [],
   "source": [
    "arr = []\n",
    "for y in Y_train:\n",
    "   arr.append(y) "
   ]
  },
  {
   "cell_type": "code",
   "execution_count": 31,
   "metadata": {
    "collapsed": true
   },
   "outputs": [],
   "source": [
    "narr = np.array(arr)"
   ]
  },
  {
   "cell_type": "code",
   "execution_count": 39,
   "metadata": {
    "collapsed": true
   },
   "outputs": [],
   "source": [
    "narr2 = narr.reshape(-1,1)\n"
   ]
  },
  {
   "cell_type": "code",
   "execution_count": 33,
   "metadata": {},
   "outputs": [
    {
     "ename": "AttributeError",
     "evalue": "'list' object has no attribute 'reshape'",
     "output_type": "error",
     "traceback": [
      "\u001b[0;31m---------------------------------------------------------------------------\u001b[0m",
      "\u001b[0;31mAttributeError\u001b[0m                            Traceback (most recent call last)",
      "\u001b[0;32m<ipython-input-33-fd04ee349c55>\u001b[0m in \u001b[0;36m<module>\u001b[0;34m()\u001b[0m\n\u001b[0;32m----> 1\u001b[0;31m \u001b[0marr\u001b[0m \u001b[0;34m=\u001b[0m \u001b[0marr\u001b[0m\u001b[0;34m.\u001b[0m\u001b[0mreshape\u001b[0m\u001b[0;34m(\u001b[0m\u001b[0;34m(\u001b[0m\u001b[0;34m-\u001b[0m\u001b[0;36m1\u001b[0m\u001b[0;34m,\u001b[0m \u001b[0;36m1\u001b[0m\u001b[0;34m)\u001b[0m\u001b[0;34m)\u001b[0m\u001b[0;34m\u001b[0m\u001b[0m\n\u001b[0m",
      "\u001b[0;31mAttributeError\u001b[0m: 'list' object has no attribute 'reshape'"
     ]
    }
   ],
   "source": [
    "arr = arr.reshape((-1, 1))"
   ]
  },
  {
   "cell_type": "code",
   "execution_count": 40,
   "metadata": {},
   "outputs": [
    {
     "data": {
      "text/plain": [
       "array([['0'],\n",
       "       ['0'],\n",
       "       ['0'],\n",
       "       ..., \n",
       "       ['1'],\n",
       "       ['0'],\n",
       "       ['1']],\n",
       "      dtype='<U32')"
      ]
     },
     "execution_count": 40,
     "metadata": {},
     "output_type": "execute_result"
    }
   ],
   "source": [
    "narr2"
   ]
  },
  {
   "cell_type": "code",
   "execution_count": 42,
   "metadata": {},
   "outputs": [
    {
     "data": {
      "text/plain": [
       "array([['0'],\n",
       "       ['0'],\n",
       "       ['0'],\n",
       "       ..., \n",
       "       ['1'],\n",
       "       ['0'],\n",
       "       ['1']],\n",
       "      dtype='<U32')"
      ]
     },
     "execution_count": 42,
     "metadata": {},
     "output_type": "execute_result"
    }
   ],
   "source": [
    "Y_train"
   ]
  },
  {
   "cell_type": "code",
   "execution_count": null,
   "metadata": {
    "collapsed": true
   },
   "outputs": [],
   "source": []
  },
  {
   "cell_type": "code",
   "execution_count": null,
   "metadata": {
    "collapsed": true
   },
   "outputs": [],
   "source": []
  },
  {
   "cell_type": "code",
   "execution_count": null,
   "metadata": {
    "collapsed": true
   },
   "outputs": [],
   "source": []
  },
  {
   "cell_type": "code",
   "execution_count": null,
   "metadata": {
    "collapsed": true
   },
   "outputs": [],
   "source": []
  },
  {
   "cell_type": "code",
   "execution_count": null,
   "metadata": {
    "collapsed": true
   },
   "outputs": [],
   "source": []
  },
  {
   "cell_type": "code",
   "execution_count": null,
   "metadata": {
    "collapsed": true
   },
   "outputs": [],
   "source": []
  },
  {
   "cell_type": "code",
   "execution_count": null,
   "metadata": {
    "collapsed": true
   },
   "outputs": [],
   "source": []
  },
  {
   "cell_type": "code",
   "execution_count": 1,
   "metadata": {},
   "outputs": [
    {
     "name": "stdout",
     "output_type": "stream",
     "text": [
      "\n",
      "Please cite HTMD: Doerr et al.(2016)JCTC,12,1845. https://dx.doi.org/10.1021/acs.jctc.6b00049\n",
      "\n",
      "HTMD Documentation at: https://www.htmd.org/docs/latest/\n",
      "\n",
      "New devel HTMD version (1.7.35 python[==3.5,==3.6]) is available. You are currently on (1.7.33). Use 'conda update -c acellera htmd' to update to the new version. You might need to update your python version as well if there is no release for your current version.\n",
      "\n"
     ]
    }
   ],
   "source": [
    "\n",
    "\n",
    "\n",
    "\n",
    "from htmd import *\n",
    "from htmd.molecule import voxeldescriptors as vd\n",
    "from htmd.molecule import util as u\n",
    "\n"
   ]
  },
  {
   "cell_type": "code",
   "execution_count": 2,
   "metadata": {
    "collapsed": true
   },
   "outputs": [],
   "source": [
    "mol = Molecule(\"/home/david/Documents/projects/binding-prediction-DL/data/auxQT/8145.pdbqt\")"
   ]
  },
  {
   "cell_type": "code",
   "execution_count": 3,
   "metadata": {
    "collapsed": true
   },
   "outputs": [],
   "source": [
    "dist = u.maxDistance(mol, sel='all', origin=[0, 0, 0])"
   ]
  },
  {
   "cell_type": "code",
   "execution_count": 4,
   "metadata": {},
   "outputs": [
    {
     "data": {
      "text/plain": [
       "6.7099215044251777"
      ]
     },
     "execution_count": 4,
     "metadata": {},
     "output_type": "execute_result"
    }
   ],
   "source": [
    "dist"
   ]
  },
  {
   "cell_type": "code",
   "execution_count": 5,
   "metadata": {
    "collapsed": true
   },
   "outputs": [],
   "source": [
    "point = np.squeeze(mol.coords).mean(axis=0)"
   ]
  },
  {
   "cell_type": "code",
   "execution_count": 21,
   "metadata": {
    "collapsed": true
   },
   "outputs": [],
   "source": [
    "desc = vd.getPointDescriptors(mol, point, size=[int(14)]*3)"
   ]
  },
  {
   "cell_type": "code",
   "execution_count": 22,
   "metadata": {},
   "outputs": [
    {
     "data": {
      "text/plain": [
       "(14, 14, 14, 8)"
      ]
     },
     "execution_count": 22,
     "metadata": {},
     "output_type": "execute_result"
    }
   ],
   "source": [
    "desc.shape"
   ]
  },
  {
   "cell_type": "code",
   "execution_count": 20,
   "metadata": {
    "collapsed": true
   },
   "outputs": [],
   "source": [
    "desc2 = vd.getPointDescriptors(mol, point, size=[int(7)]*3)"
   ]
  },
  {
   "cell_type": "code",
   "execution_count": 31,
   "metadata": {},
   "outputs": [
    {
     "data": {
      "text/plain": [
       "array([ 1.        ,  0.99999782,  0.03728058,  0.        ,  1.        ,\n",
       "        1.        ,  0.        ,  1.        ])"
      ]
     },
     "execution_count": 31,
     "metadata": {},
     "output_type": "execute_result"
    }
   ],
   "source": [
    "desc2[3][3][3]"
   ]
  },
  {
   "cell_type": "code",
   "execution_count": 32,
   "metadata": {},
   "outputs": [
    {
     "data": {
      "text/plain": [
       "array([ 1.        ,  0.89496171,  0.00331686,  0.        ,  1.        ,\n",
       "        0.99988408,  0.        ,  1.        ])"
      ]
     },
     "execution_count": 32,
     "metadata": {},
     "output_type": "execute_result"
    }
   ],
   "source": [
    "desc[7][7][7]"
   ]
  },
  {
   "cell_type": "code",
   "execution_count": 11,
   "metadata": {
    "collapsed": true
   },
   "outputs": [],
   "source": [
    "mol2 = Molecule(\"/home/david/Documents/projects/binding-prediction-DL/data/auxQT/1970.pdbqt\")"
   ]
  },
  {
   "cell_type": "code",
   "execution_count": 12,
   "metadata": {
    "collapsed": true
   },
   "outputs": [],
   "source": [
    "dist2 = u.maxDistance(mol2, sel='all', origin=[0, 0, 0])"
   ]
  },
  {
   "cell_type": "code",
   "execution_count": 13,
   "metadata": {},
   "outputs": [
    {
     "data": {
      "text/plain": [
       "8.2593653632781194"
      ]
     },
     "execution_count": 13,
     "metadata": {},
     "output_type": "execute_result"
    }
   ],
   "source": [
    "dist2"
   ]
  },
  {
   "cell_type": "code",
   "execution_count": 15,
   "metadata": {
    "collapsed": true
   },
   "outputs": [],
   "source": [
    "from htmd.molecule import util as u\n"
   ]
  },
  {
   "cell_type": "code",
   "execution_count": 16,
   "metadata": {},
   "outputs": [
    {
     "data": {
      "text/plain": [
       "array([[-4.43400002, -4.3920002 , -1.56900001],\n",
       "       [ 5.66099977,  6.67700005,  2.7019999 ]], dtype=float32)"
      ]
     },
     "execution_count": 16,
     "metadata": {},
     "output_type": "execute_result"
    }
   ],
   "source": [
    "u.boundingBox(mol, sel='all')"
   ]
  },
  {
   "cell_type": "code",
   "execution_count": 17,
   "metadata": {},
   "outputs": [
    {
     "name": "stderr",
     "output_type": "stream",
     "text": [
      "Using TensorFlow backend.\n"
     ]
    },
    {
     "name": "stdout",
     "output_type": "stream",
     "text": [
      "Loading data from file\n"
     ]
    }
   ],
   "source": [
    "from chemblmining import main as miner \n",
    "from cnn import main as cnn \n",
    "from descriptors import main as desc \n",
    "\n",
    "from configparser import ConfigParser\n",
    "\n",
    "\n",
    "parser = ConfigParser()\n",
    "parser.read(\"config.file\")\n",
    "configPath = parser.get('init', 'configPath')\n",
    "ligands = miner.main(configPath)\n"
   ]
  },
  {
   "cell_type": "code",
   "execution_count": 19,
   "metadata": {},
   "outputs": [
    {
     "data": {
      "text/plain": [
       "numpy.str_"
      ]
     },
     "execution_count": 19,
     "metadata": {},
     "output_type": "execute_result"
    }
   ],
   "source": [
    "type(ligands[1][2])"
   ]
  },
  {
   "cell_type": "code",
   "execution_count": null,
   "metadata": {
    "collapsed": true
   },
   "outputs": [],
   "source": []
  }
 ],
 "metadata": {
  "kernelspec": {
   "display_name": "Python 3",
   "language": "python",
   "name": "python3"
  },
  "language_info": {
   "codemirror_mode": {
    "name": "ipython",
    "version": 3
   },
   "file_extension": ".py",
   "mimetype": "text/x-python",
   "name": "python",
   "nbconvert_exporter": "python",
   "pygments_lexer": "ipython3",
   "version": "3.5.3"
  }
 },
 "nbformat": 4,
 "nbformat_minor": 2
}
