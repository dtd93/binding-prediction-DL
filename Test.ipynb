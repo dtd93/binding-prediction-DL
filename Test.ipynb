{
 "cells": [
  {
   "cell_type": "code",
   "execution_count": 39,
   "metadata": {
    "collapsed": true
   },
   "outputs": [],
   "source": [
    "import datetime\n",
    "import mysql.connector\n",
    "\n",
    "def getLigandsId(tid):\n",
    "    cnx = mysql.connector.connect(user='root', database='chembl', password='toor')\n",
    "    cursor = cnx.cursor()\n",
    "    query = (\"select * from drug_mechanism where TID =\"+tid)\n",
    "    ligands=[]\n",
    "    cursor.execute(query)\n",
    "    for (record_id) in cursor:\n",
    "        ligands.append(record_id[1])\n",
    "    cursor.close()\n",
    "    cnx.close()\n",
    "    #print(ligands)\n",
    "    return ligands\n",
    "\n",
    "\n",
    "def getTargets():\n",
    "    cnx = mysql.connector.connect(user='root', database='chembl', password='toor')\n",
    "    cursor = cnx.cursor()\n",
    "    query = (\"select tid from target_dictionary\")\n",
    "    elements=[]\n",
    "    cursor.execute(query)\n",
    "    for c in cursor:\n",
    "        elements.append(c[0])\n",
    "    cursor.close()\n",
    "    cnx.close()\n",
    "    return elements\n",
    "\n",
    "\n",
    "def getDomains():\n",
    "    cnx = mysql.connector.connect(user='root', database='chembl', password='toor')\n",
    "    cursor = cnx.cursor()\n",
    "    query = (\"select domain_id from domains\")\n",
    "    elements=[]\n",
    "    cursor.execute(query)\n",
    "    for c in cursor:\n",
    "        elements.append(c[0])\n",
    "    cursor.close()\n",
    "    cnx.close()\n",
    "    return elements\n",
    "\n",
    "def getSiteComp(domain):\n",
    "    cnx = mysql.connector.connect(user='root', database='chembl', password='toor')\n",
    "    cursor = cnx.cursor()\n",
    "    query = (\"select site_id from site_components where domain_id=\"+domain)\n",
    "    elements=[]\n",
    "    cursor.execute(query)\n",
    "    for c in cursor:\n",
    "        elements.append(c[0])\n",
    "    cursor.close()\n",
    "    cnx.close()\n",
    "    return elements\n",
    "\n",
    "def getTIDS(domain):\n",
    "    cnx = mysql.connector.connect(user='root', database='chembl', password='toor')\n",
    "    cursor = cnx.cursor()\n",
    "    query = (\"select * from binding_sites where site_id =\" +domain)\n",
    "    elements=[]\n",
    "    cursor.execute(query)\n",
    "    for c in cursor:\n",
    "        elements.append(c[2])\n",
    "    cursor.close()\n",
    "    cnx.close()\n",
    "    return elements\n",
    "\n",
    "#deprecated\n",
    "def getBindingSites(tid):\n",
    "    cnx = mysql.connector.connect(user='root', database='chembl', password='toor')\n",
    "    cursor = cnx.cursor()\n",
    "    query = (\"select * from binding_sites where TID = 104688\")\n",
    "    elements=[]\n",
    "    cursor.execute(query)\n",
    "    for (site_id) in cursor:\n",
    "        elements.append(c)\n",
    "    cursor.close()\n",
    "    cnx.close()\n",
    "    return elements\n",
    "\n",
    "#deprecated\n",
    "def getLigandFromBs(binding_site):\n",
    "    cnx = mysql.connector.connect(user='root', database='chembl', password='toor')\n",
    "    cursor = cnx.cursor()\n",
    "    query = (\"select * from drug_mechanism where tid =\"+binding_site)\n",
    "    elements = []\n",
    "    cursor.execute(query)\n",
    "    for c in cursor:\n",
    "        elements.append(c[2])\n",
    "\n",
    "    cursor.close()\n",
    "    cnx.close()\n",
    "    return elements\n",
    "\n",
    "\n",
    "def getLigandActivities(ligand_id):\n",
    "    cnx = mysql.connector.connect(user='root', database='chembl', password='toor')\n",
    "    cursor = cnx.cursor()\n",
    "    query = (\"select * from compound_records where TID = 104688\")\n",
    "    element=null\n",
    "    cursor.execute(query)\n",
    "    for c in cursor:\n",
    "        elements = c\n",
    "\n",
    "    cursor.close()\n",
    "    cnx.close()\n",
    "    return element\n",
    "\n",
    "\n",
    "def getAssays(tid):\n",
    "    cnx = mysql.connector.connect(user='root', database='chembl', password='toor')\n",
    "    cursor = cnx.cursor()\n",
    "    query = (\"select * from assays where TID =\"+tid)\n",
    "    assays=[]\n",
    "    cursor.execute(query)\n",
    "    for c in cursor:\n",
    "        assays.append(c[0])\n",
    "    cursor.close()\n",
    "    cnx.close()\n",
    "    return assays\n",
    "\n",
    "def getActivities(tid):\n",
    "    cnx = mysql.connector.connect(user='root', database='chembl', password='toor')\n",
    "    cursor = cnx.cursor()\n",
    "    query = (\"select * from activities where assay_id =\"+tid)\n",
    "    assays=[]\n",
    "    cursor.execute(query)\n",
    "    for c in cursor:\n",
    "        assays.append(c[3])\n",
    "    cursor.close()\n",
    "    cnx.close()\n",
    "    return assays"
   ]
  },
  {
   "cell_type": "code",
   "execution_count": 11,
   "metadata": {},
   "outputs": [
    {
     "data": {
      "text/plain": [
       "68"
      ]
     },
     "execution_count": 11,
     "metadata": {},
     "output_type": "execute_result"
    }
   ],
   "source": [
    "len(getLigandsId(\"25\"))"
   ]
  },
  {
   "cell_type": "code",
   "execution_count": 5,
   "metadata": {},
   "outputs": [
    {
     "name": "stdout",
     "output_type": "stream",
     "text": [
      "68\n",
      "25\n"
     ]
    }
   ],
   "source": [
    "#get the target with most ligands \n",
    "max = 0\n",
    "last = 0\n",
    "t = getTargets()\n",
    "for aux in t:\n",
    "    act = len(getLigandsId(str(aux)))\n",
    "    if act > max:\n",
    "        max = act\n",
    "        last = aux\n",
    "print(max)\n",
    "print(last)"
   ]
  },
  {
   "cell_type": "code",
   "execution_count": 20,
   "metadata": {},
   "outputs": [
    {
     "name": "stdout",
     "output_type": "stream",
     "text": [
      "850\n",
      "671\n"
     ]
    }
   ],
   "source": [
    "#get number ligands by assay\n",
    "assa = getAssays(\"104688\")\n",
    "suma = 0;\n",
    "mols = set()\n",
    "for a in assa:\n",
    "    ats = getActivities(str(a))\n",
    "    suma += len(ats)\n",
    "    for aa in ats:\n",
    "        mols.add(aa)\n",
    "print(suma)\n",
    "print(len(mols))"
   ]
  },
  {
   "cell_type": "code",
   "execution_count": 15,
   "metadata": {},
   "outputs": [
    {
     "name": "stdout",
     "output_type": "stream",
     "text": [
      "113\n"
     ]
    }
   ],
   "source": [
    "assa = getAssays(\"104688\")\n",
    "print(len(assa))"
   ]
  },
  {
   "cell_type": "code",
   "execution_count": null,
   "metadata": {
    "collapsed": true
   },
   "outputs": [],
   "source": [
    "#get the target with most ligands \n",
    "max = 0\n",
    "last = 0\n",
    "t = getDomains()\n",
    "for aux in t:\n",
    "    act = len(getLigandsId(str(aux)))\n",
    "    if act > max:\n",
    "        max = act\n",
    "        last = aux\n",
    "print(max)\n",
    "print(last)"
   ]
  },
  {
   "cell_type": "code",
   "execution_count": 40,
   "metadata": {},
   "outputs": [
    {
     "name": "stdout",
     "output_type": "stream",
     "text": [
      "2627\n",
      "514\n",
      "514\n",
      "580\n"
     ]
    }
   ],
   "source": [
    "doms = getDomains()\n",
    "sites = []\n",
    "sitesfinal = set()\n",
    "act = 0\n",
    "maxi = 0\n",
    "for d in doms:\n",
    "    aux = getSiteComp(str(d))\n",
    "    sites = []\n",
    "    for a in aux:\n",
    "        sites.append(a)\n",
    "    binding = set()\n",
    "    for s in sites:\n",
    "        aux2 = getTIDS(str(s))\n",
    "        for a2 in aux2:\n",
    "            binding.add(a2)\n",
    "        \n",
    "    if len(binding) > maxi:\n",
    "        maxi = len(binding)\n",
    "        act = d\n",
    "        sitesfinal = binding\n",
    "    \n",
    "        \n",
    "print(act)\n",
    "print(maxi)\n",
    "print(len(sitesfinal))\n",
    "setsitesfinal = set()\n",
    "\n",
    "\n",
    "\n",
    "for s in sitesfinal:\n",
    "    setDrugs = getLigandFromBs(str(s))\n",
    "    for drug in setDrugs:\n",
    "        setsitesfinal.add(drug)\n",
    "    \n",
    "print(len(setsitesfinal))\n",
    "    \n",
    "\n",
    "    "
   ]
  }
 ],
 "metadata": {
  "kernelspec": {
   "display_name": "Python 3",
   "language": "python",
   "name": "python3"
  },
  "language_info": {
   "codemirror_mode": {
    "name": "ipython",
    "version": 3
   },
   "file_extension": ".py",
   "mimetype": "text/x-python",
   "name": "python",
   "nbconvert_exporter": "python",
   "pygments_lexer": "ipython3",
   "version": "3.5.3"
  }
 },
 "nbformat": 4,
 "nbformat_minor": 2
}
